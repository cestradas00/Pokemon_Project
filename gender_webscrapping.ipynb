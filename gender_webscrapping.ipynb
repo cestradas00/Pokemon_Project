{
 "cells": [
  {
   "cell_type": "code",
   "execution_count": 1,
   "id": "169db5f5",
   "metadata": {},
   "outputs": [],
   "source": [
    "import requests\n",
    "from bs4 import BeautifulSoup\n",
    "import pandas as pd"
   ]
  },
  {
   "cell_type": "code",
   "execution_count": 2,
   "id": "b02d462b",
   "metadata": {},
   "outputs": [
    {
     "data": {
      "text/html": [
       "<div>\n",
       "<style scoped>\n",
       "    .dataframe tbody tr th:only-of-type {\n",
       "        vertical-align: middle;\n",
       "    }\n",
       "\n",
       "    .dataframe tbody tr th {\n",
       "        vertical-align: top;\n",
       "    }\n",
       "\n",
       "    .dataframe thead th {\n",
       "        text-align: right;\n",
       "    }\n",
       "</style>\n",
       "<table border=\"1\" class=\"dataframe\">\n",
       "  <thead>\n",
       "    <tr style=\"text-align: right;\">\n",
       "      <th></th>\n",
       "      <th>Name</th>\n",
       "      <th>Male Percentage</th>\n",
       "      <th>Female Percentage</th>\n",
       "    </tr>\n",
       "  </thead>\n",
       "  <tbody>\n",
       "    <tr>\n",
       "      <th>0</th>\n",
       "      <td>Bulbasaur</td>\n",
       "      <td>87.5%</td>\n",
       "      <td>12.5%</td>\n",
       "    </tr>\n",
       "    <tr>\n",
       "      <th>1</th>\n",
       "      <td>Ivysaur</td>\n",
       "      <td>87.5%</td>\n",
       "      <td>12.5%</td>\n",
       "    </tr>\n",
       "    <tr>\n",
       "      <th>2</th>\n",
       "      <td>Venusaur</td>\n",
       "      <td>87.5%</td>\n",
       "      <td>12.5%</td>\n",
       "    </tr>\n",
       "    <tr>\n",
       "      <th>3</th>\n",
       "      <td>Venusaur (Mega Venusaur)</td>\n",
       "      <td>87.5%</td>\n",
       "      <td>12.5%</td>\n",
       "    </tr>\n",
       "    <tr>\n",
       "      <th>4</th>\n",
       "      <td>Charmander</td>\n",
       "      <td>87.5%</td>\n",
       "      <td>12.5%</td>\n",
       "    </tr>\n",
       "  </tbody>\n",
       "</table>\n",
       "</div>"
      ],
      "text/plain": [
       "                       Name Male Percentage Female Percentage\n",
       "0                 Bulbasaur           87.5%             12.5%\n",
       "1                   Ivysaur           87.5%             12.5%\n",
       "2                  Venusaur           87.5%             12.5%\n",
       "3  Venusaur (Mega Venusaur)           87.5%             12.5%\n",
       "4                Charmander           87.5%             12.5%"
      ]
     },
     "execution_count": 2,
     "metadata": {},
     "output_type": "execute_result"
    }
   ],
   "source": [
    "url = \"https://listfist.com/list-of-pokemon-by-gender\"\n",
    "\n",
    "response = requests.get(url)\n",
    "soup = BeautifulSoup(response.content, 'html.parser')\n",
    "\n",
    "# Finding the table containing the Pokémon gender information\n",
    "table = soup.find('table')\n",
    "\n",
    "pokemon_names = []\n",
    "male_percentages = []\n",
    "female_percentages = []\n",
    "\n",
    "rows = table.find_all('tr')\n",
    "\n",
    "for row in rows[1:]:  \n",
    "    cells = row.find_all('td')\n",
    "    pokemon_name = cells[1].text.strip()\n",
    "    male_percentage = cells[2].text.strip()\n",
    "    female_percentage = cells[3].text.strip()\n",
    "    pokemon_names.append(pokemon_name)\n",
    "    male_percentages.append(male_percentage)\n",
    "    female_percentages.append(female_percentage)\n",
    "\n",
    "poke_gender = pd.DataFrame({'Name': pokemon_names, 'Male Percentage': male_percentages, 'Female Percentage': female_percentages})\n",
    "poke_gender.head()"
   ]
  },
  {
   "cell_type": "code",
   "execution_count": 3,
   "id": "56b67816",
   "metadata": {},
   "outputs": [],
   "source": [
    "poke_gender.to_csv('pokemon_gender.csv', index=False)"
   ]
  }
 ],
 "metadata": {
  "kernelspec": {
   "display_name": "Python 3 (ipykernel)",
   "language": "python",
   "name": "python3"
  },
  "language_info": {
   "codemirror_mode": {
    "name": "ipython",
    "version": 3
   },
   "file_extension": ".py",
   "mimetype": "text/x-python",
   "name": "python",
   "nbconvert_exporter": "python",
   "pygments_lexer": "ipython3",
   "version": "3.11.4"
  }
 },
 "nbformat": 4,
 "nbformat_minor": 5
}
